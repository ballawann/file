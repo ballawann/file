{
 "cells": [
  {
   "cell_type": "code",
   "execution_count": 1,
   "id": "3317f2c2",
   "metadata": {},
   "outputs": [
    {
     "ename": "AttributeError",
     "evalue": "'numpy.ndarray' object has no attribute 'save'",
     "output_type": "error",
     "traceback": [
      "\u001b[1;31m---------------------------------------------------------------------------\u001b[0m",
      "\u001b[1;31mAttributeError\u001b[0m                            Traceback (most recent call last)",
      "\u001b[1;32m<ipython-input-1-21d4459c6598>\u001b[0m in \u001b[0;36m<module>\u001b[1;34m\u001b[0m\n\u001b[0;32m     20\u001b[0m \u001b[0mcv2\u001b[0m\u001b[1;33m.\u001b[0m\u001b[0mwaitKey\u001b[0m\u001b[1;33m(\u001b[0m\u001b[1;36m0\u001b[0m\u001b[1;33m)\u001b[0m\u001b[1;33m\u001b[0m\u001b[1;33m\u001b[0m\u001b[0m\n\u001b[0;32m     21\u001b[0m \u001b[0mcv2\u001b[0m\u001b[1;33m.\u001b[0m\u001b[0mdestroyAllWindows\u001b[0m\u001b[1;33m(\u001b[0m\u001b[1;33m)\u001b[0m\u001b[1;33m\u001b[0m\u001b[1;33m\u001b[0m\u001b[0m\n\u001b[1;32m---> 22\u001b[1;33m \u001b[0mimg\u001b[0m\u001b[1;33m.\u001b[0m\u001b[0msave\u001b[0m\u001b[1;33m(\u001b[0m\u001b[1;34m'C:\\\\Users\\\\LENOVO\\\\Desktop\\\\lec3\\\\77.jpg'\u001b[0m\u001b[1;33m)\u001b[0m\u001b[1;33m\u001b[0m\u001b[1;33m\u001b[0m\u001b[0m\n\u001b[0m",
      "\u001b[1;31mAttributeError\u001b[0m: 'numpy.ndarray' object has no attribute 'save'"
     ]
    }
   ],
   "source": [
    "\n",
    " import cv2\n",
    "#import unmpy as np\n",
    "img  = cv2.imread('C:\\\\Users\\\\LENOVO\\\\Desktop\\\\lec3\\\\7.jpg')\n",
    "img1 = cv2.imread('C:\\\\Users\\\\LENOVO\\\\Desktop\\\\lec3\\\\7.jpg')\n",
    "img2 = cv2.imread('C:\\\\Users\\\\LENOVO\\\\Desktop\\\\lec3\\\\7.jpg')\n",
    "img3 = cv2.imread('C:\\\\Users\\\\LENOVO\\\\Desktop\\\\lec3\\\\7.jpg')\n",
    "b, g, r = cv2.split(img)\n",
    "img4 = cv2.merge((b,g,r))\n",
    "img1[:,:,0] = 0\n",
    "img2[:,:,1] = 0\n",
    "img3[:,:,2] = 0\n",
    "cv2.imshow(' ',img)\n",
    "cv2.waitKey(0) \n",
    "cv2.imshow(' ',img1)\n",
    "cv2.waitKey(0)\n",
    "cv2.imshow(' ',img2)\n",
    "cv2.waitKey(0)\n",
    "cv2.imshow(' ',img3)\n",
    "\n",
    "cv2.waitKey(0)\n",
    "cv2.destroyAllWindows()\n",
    "img.save('C:\\\\Users\\\\LENOVO\\\\Desktop\\\\lec3\\\\77.jpg')"
   ]
  },
  {
   "cell_type": "code",
   "execution_count": null,
   "id": "1b14ac54",
   "metadata": {},
   "outputs": [],
   "source": []
  },
  {
   "cell_type": "code",
   "execution_count": null,
   "id": "b637429a",
   "metadata": {},
   "outputs": [],
   "source": []
  },
  {
   "cell_type": "code",
   "execution_count": 2,
   "id": "36caa0b0",
   "metadata": {},
   "outputs": [
    {
     "ename": "AttributeError",
     "evalue": "'numpy.ndarray' object has no attribute 'save'",
     "output_type": "error",
     "traceback": [
      "\u001b[1;31m---------------------------------------------------------------------------\u001b[0m",
      "\u001b[1;31mAttributeError\u001b[0m                            Traceback (most recent call last)",
      "\u001b[1;32m<ipython-input-2-817c95bf8187>\u001b[0m in \u001b[0;36m<module>\u001b[1;34m\u001b[0m\n\u001b[0;32m      7\u001b[0m \u001b[1;31m#cv2.destroyAIIWindows()\u001b[0m\u001b[1;33m\u001b[0m\u001b[1;33m\u001b[0m\u001b[1;33m\u001b[0m\u001b[0m\n\u001b[0;32m      8\u001b[0m \u001b[1;33m\u001b[0m\u001b[0m\n\u001b[1;32m----> 9\u001b[1;33m \u001b[0mroi\u001b[0m\u001b[1;33m.\u001b[0m\u001b[0msave\u001b[0m\u001b[1;33m(\u001b[0m\u001b[1;33m)\u001b[0m\u001b[1;33m\u001b[0m\u001b[1;33m\u001b[0m\u001b[0m\n\u001b[0m",
      "\u001b[1;31mAttributeError\u001b[0m: 'numpy.ndarray' object has no attribute 'save'"
     ]
    }
   ],
   "source": [
    "import cv2\n",
    "\n",
    "img = cv2.imread('C:\\\\Users\\\\LENOVO\\\\Desktop\\\\lec3\\\\b8.jpeg')\n",
    "roi = img[70:190,150:280]\n",
    "cv2.imshow(\"ROI\",roi)\n",
    "cv2.waitKey(0)\n",
    "#cv2.destroyAIIWindows()\n",
    "\n",
    "roi.save()"
   ]
  },
  {
   "cell_type": "code",
   "execution_count": 5,
   "id": "d772c3c8",
   "metadata": {},
   "outputs": [],
   "source": [
    " from PIL import Image,ImageFilter\n",
    "im = Image.open('C:\\\\Users\\\\LENOVO\\\\Desktop\\\\lec3\\\\3.jpg')\n",
    "im1 = im.filter(ImageFilter.EMBOSS)\n",
    "im1.show()\n",
    "im1.save('C:\\\\Users\\\\LENOVO\\\\Desktop\\\\lec3\\\\5.jpg')"
   ]
  },
  {
   "cell_type": "code",
   "execution_count": null,
   "id": "8b7c22c1",
   "metadata": {},
   "outputs": [],
   "source": []
  },
  {
   "cell_type": "code",
   "execution_count": null,
   "id": "730194b9",
   "metadata": {},
   "outputs": [],
   "source": []
  }
 ],
 "metadata": {
  "kernelspec": {
   "display_name": "Python 3",
   "language": "python",
   "name": "python3"
  },
  "language_info": {
   "codemirror_mode": {
    "name": "ipython",
    "version": 3
   },
   "file_extension": ".py",
   "mimetype": "text/x-python",
   "name": "python",
   "nbconvert_exporter": "python",
   "pygments_lexer": "ipython3",
   "version": "3.8.8"
  }
 },
 "nbformat": 4,
 "nbformat_minor": 5
}
